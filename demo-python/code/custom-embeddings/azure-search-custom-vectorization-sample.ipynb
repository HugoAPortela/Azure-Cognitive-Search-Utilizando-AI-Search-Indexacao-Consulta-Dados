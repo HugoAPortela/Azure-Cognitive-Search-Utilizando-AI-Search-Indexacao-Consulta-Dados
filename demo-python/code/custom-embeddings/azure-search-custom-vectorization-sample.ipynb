{
 "cells": [
  {
   "cell_type": "markdown",
   "metadata": {},
   "source": [
    "# Azure AI Search custom vectorization sample\n",
    "This sample demonstrates how to use Azure AI Search as a vector store by automatically chunking and generating embeddings using a custom embedding skill as part of the skillset pipeline in Azure AI Search. You can choose what embedding model works for your use case.\n",
    "## Prerequisites\n",
    "Install [azd](https://learn.microsoft.com/en-us/azure/developer/azure-developer-cli/overview) and run `azd up` to deploy the sample.\n",
    "To run this sample query code, install the following packages. This sample currently uses version `11.4.0b11` of `azure-search-documents`"
   ]
  },
  {
   "cell_type": "code",
   "execution_count": 8,
   "metadata": {},
   "outputs": [
    {
     "name": "stderr",
     "output_type": "stream",
     "text": [
      "\n",
      "[notice] A new release of pip is available: 23.0.1 -> 23.3.2\n",
      "[notice] To update, run: python.exe -m pip install --upgrade pip\n",
      "\n",
      "[notice] A new release of pip is available: 23.0.1 -> 23.3.2\n",
      "[notice] To update, run: python.exe -m pip install --upgrade pip\n"
     ]
    }
   ],
   "source": [
    "! pip install azure-search-documents==11.4.0b11 --quiet\n",
    "! pip install python-dotenv azure-identity --quiet"
   ]
  },
  {
   "cell_type": "code",
   "execution_count": 10,
   "metadata": {},
   "outputs": [
    {
     "data": {
      "text/plain": [
       "True"
      ]
     },
     "execution_count": 10,
     "metadata": {},
     "output_type": "execute_result"
    }
   ],
   "source": [
    "# Load all environment variables from the azd deployment\n",
    "import subprocess\n",
    "from io import StringIO\n",
    "from dotenv import load_dotenv\n",
    "result = subprocess.run(\"azd env get-values\", stdout=subprocess.PIPE)\n",
    "load_dotenv(stream=StringIO(result.stdout.decode(\"utf-8\")))"
   ]
  },
  {
   "cell_type": "code",
   "execution_count": 12,
   "metadata": {},
   "outputs": [],
   "source": [
    "import os\n",
    "search_url = f\"https://{os.environ['AZURE_SEARCH_SERVICE']}.search.windows.net\""
   ]
  },
  {
   "cell_type": "markdown",
   "metadata": {},
   "source": [
    "## Perform a vector similarity search\n",
    "\n",
    "This example shows a pure vector search using the vectorizable text query, all you need to do is pass in text and your vectorizer will handle the query vectorization."
   ]
  },
  {
   "cell_type": "code",
   "execution_count": 29,
   "metadata": {},
   "outputs": [
    {
     "name": "stdout",
     "output_type": "stream",
     "text": [
      "parent_id: aHR0cHM6Ly9zdDN6emRiYm50cGxiMncuYmxvYi5jb3JlLndpbmRvd3MubmV0L2N1c3RvbS1lbWJlZGRpbmctc2FtcGxlLWRhdGEvZW1wbG95ZWVfaGFuZGJvb2sucGRm0\n",
      "Score: 0.7918109\n",
      "Content: for improvement. They will also provide you with \n",
      "\n",
      "an opportunity to discuss your goals and objectives for the upcoming year. \n",
      "\n",
      " \n",
      "\n",
      "Performance reviews are a two-way dialogue between managers and employees. We\n"
     ]
    }
   ],
   "source": [
    "from azure.search.documents import SearchClient\n",
    "from azure.search.documents.models import VectorizableTextQuery\n",
    "from azure.identity import DefaultAzureCredential\n",
    "# Pure Vector Search\n",
    "query = \"What's a performance review?\"  \n",
    "  \n",
    "search_client = SearchClient(search_url, \"custom-embedding-index\", credential=DefaultAzureCredential())\n",
    "vector_query = VectorizableTextQuery(text=query, k=1, fields=\"vector\", exhaustive=True)\n",
    "# Use the below query to pass in the raw vector query instead of the query vectorization\n",
    "# vector_query = RawVectorQuery(vector=generate_embeddings(query), k=3, fields=\"vector\")\n",
    "  \n",
    "results = search_client.search(  \n",
    "    search_text=None,  \n",
    "    vector_queries= [vector_query],\n",
    "    select=[\"parent_id\", \"chunk_id\", \"chunk\"],\n",
    "    top=1\n",
    ")  \n",
    "  \n",
    "for result in results:  \n",
    "    print(f\"parent_id: {result['parent_id']}\")  \n",
    "    print(f\"Score: {result['@search.score']}\")  \n",
    "    print(f\"Content: {result['chunk']}\")  \n"
   ]
  },
  {
   "cell_type": "markdown",
   "metadata": {},
   "source": [
    "## Perform a hybrid search"
   ]
  },
  {
   "cell_type": "code",
   "execution_count": 28,
   "metadata": {},
   "outputs": [
    {
     "name": "stdout",
     "output_type": "stream",
     "text": [
      "parent_id: aHR0cHM6Ly9zdDN6emRiYm50cGxiMncuYmxvYi5jb3JlLndpbmRvd3MubmV0L2N1c3RvbS1lbWJlZGRpbmctc2FtcGxlLWRhdGEvZW1wbG95ZWVfaGFuZGJvb2sucGRm0\n",
      "chunk_id: 9788cb956dcc_aHR0cHM6Ly9zdDN6emRiYm50cGxiMncuYmxvYi5jb3JlLndpbmRvd3MubmV0L2N1c3RvbS1lbWJlZGRpbmctc2FtcGxlLWRhdGEvZW1wbG95ZWVfaGFuZGJvb2sucGRm0_pages_15\n",
      "Score: 0.029012346640229225\n",
      "Content: for improvement. They will also provide you with \n",
      "\n",
      "an opportunity to discuss your goals and objectives for the upcoming year. \n",
      "\n",
      " \n",
      "\n",
      "Performance reviews are a two-way dialogue between managers and employees. We\n"
     ]
    }
   ],
   "source": [
    "# Hybrid Search\n",
    "query = \"What's a performance review?\"  \n",
    "  \n",
    "vector_query = VectorizableTextQuery(text=query, k=1, fields=\"vector\", exhaustive=True)\n",
    "  \n",
    "results = search_client.search(  \n",
    "    search_text=query,  \n",
    "    vector_queries= [vector_query],\n",
    "    select=[\"parent_id\", \"chunk_id\", \"chunk\"],\n",
    "    top=1\n",
    ")  \n",
    "  \n",
    "for result in results:  \n",
    "    print(f\"parent_id: {result['parent_id']}\")  \n",
    "    print(f\"chunk_id: {result['chunk_id']}\")  \n",
    "    print(f\"Score: {result['@search.score']}\")  \n",
    "    print(f\"Content: {result['chunk']}\")  \n"
   ]
  },
  {
   "cell_type": "markdown",
   "metadata": {},
   "source": [
    "## Perform a hybrid search + Semantic reranking"
   ]
  },
  {
   "cell_type": "code",
   "execution_count": 30,
   "metadata": {},
   "outputs": [
    {
     "name": "stdout",
     "output_type": "stream",
     "text": [
      "Semantic Answer: <em>a rating of the \n",
      "\n",
      "employee’s performance, feedback, and goals and objectives for the upcoming year.</em> \n",
      "\n",
      " \n",
      "\n",
      "We understand that performance reviews can be a stressful process. We are committed to \n",
      "\n",
      "making sure that all employees feel supported and empowered during the process. We.\n",
      "Semantic Answer Score: 0.92578125\n",
      "\n",
      "parent_id: aHR0cHM6Ly9zdDN6emRiYm50cGxiMncuYmxvYi5jb3JlLndpbmRvd3MubmV0L2N1c3RvbS1lbWJlZGRpbmctc2FtcGxlLWRhdGEvZW1wbG95ZWVfaGFuZGJvb2sucGRm0\n",
      "chunk_id: 9788cb956dcc_aHR0cHM6Ly9zdDN6emRiYm50cGxiMncuYmxvYi5jb3JlLndpbmRvd3MubmV0L2N1c3RvbS1lbWJlZGRpbmctc2FtcGxlLWRhdGEvZW1wbG95ZWVfaGFuZGJvb2sucGRm0_pages_14\n",
      "Score: 0.01587301678955555\n",
      "Content: conducted in an \n",
      "\n",
      "effective and efficient manner. \n",
      "\n",
      " \n",
      "\n",
      "Performance reviews are conducted annually and are an important part of your career \n",
      "\n",
      "development. During the review, your supervisor will discuss your performance over the \n",
      "\n",
      "past year and provide feedback on areas for improvement.\n",
      "Caption: conducted in an \n",
      "\n",
      "effective and efficient manner. \n",
      "\n",
      " \n",
      "\n",
      "Performance reviews are conducted annually and are an important part of your career \n",
      "\n",
      "development. During the review, your supervisor will discuss your performance over the \n",
      "\n",
      "past year and provide feedback on areas for improvement..\n",
      "\n",
      "parent_id: aHR0cHM6Ly9zdDN6emRiYm50cGxiMncuYmxvYi5jb3JlLndpbmRvd3MubmV0L2N1c3RvbS1lbWJlZGRpbmctc2FtcGxlLWRhdGEvZW1wbG95ZWVfaGFuZGJvb2sucGRm0\n",
      "chunk_id: 9788cb956dcc_aHR0cHM6Ly9zdDN6emRiYm50cGxiMncuYmxvYi5jb3JlLndpbmRvd3MubmV0L2N1c3RvbS1lbWJlZGRpbmctc2FtcGxlLWRhdGEvZW1wbG95ZWVfaGFuZGJvb2sucGRm0_pages_15\n",
      "Score: 0.029012346640229225\n",
      "Content: for improvement. They will also provide you with \n",
      "\n",
      "an opportunity to discuss your goals and objectives for the upcoming year. \n",
      "\n",
      " \n",
      "\n",
      "Performance reviews are a two-way dialogue between managers and employees. We\n",
      "Caption: for improvement. They will also provide you with \n",
      "\n",
      "an opportunity to discuss your goals and objectives for the upcoming year. \n",
      "\n",
      " \n",
      "\n",
      "Performance reviews are a two-way dialogue between managers and employees. We.\n",
      "\n"
     ]
    }
   ],
   "source": [
    "from azure.search.documents.models import QueryType, QueryCaptionType, QueryAnswerType\n",
    "\n",
    "# Semantic Hybrid Search\n",
    "query = \"What's a performance review?\"\n",
    "\n",
    "vector_query = VectorizableTextQuery(text=query, k=2, fields=\"vector\", exhaustive=True)\n",
    "\n",
    "results = search_client.search(  \n",
    "    search_text=query,\n",
    "    vector_queries=[vector_query],\n",
    "    select=[\"parent_id\", \"chunk_id\", \"chunk\"],\n",
    "    query_type=QueryType.SEMANTIC,  semantic_configuration_name='my-semantic-config', query_caption=QueryCaptionType.EXTRACTIVE, query_answer=QueryAnswerType.EXTRACTIVE,\n",
    "    top=2\n",
    ")\n",
    "\n",
    "semantic_answers = results.get_answers()\n",
    "for answer in semantic_answers:\n",
    "    if answer.highlights:\n",
    "        print(f\"Semantic Answer: {answer.highlights}\")\n",
    "    else:\n",
    "        print(f\"Semantic Answer: {answer.text}\")\n",
    "    print(f\"Semantic Answer Score: {answer.score}\\n\")\n",
    "\n",
    "for result in results:\n",
    "    print(f\"parent_id: {result['parent_id']}\")  \n",
    "    print(f\"chunk_id: {result['chunk_id']}\")  \n",
    "    print(f\"Score: {result['@search.score']}\")  \n",
    "    print(f\"Content: {result['chunk']}\")  \n",
    "\n",
    "    captions = result[\"@search.captions\"]\n",
    "    if captions:\n",
    "        caption = captions[0]\n",
    "        if caption.highlights:\n",
    "            print(f\"Caption: {caption.highlights}\\n\")\n",
    "        else:\n",
    "            print(f\"Caption: {caption.text}\\n\")\n"
   ]
  }
 ],
 "metadata": {
  "kernelspec": {
   "display_name": ".venv",
   "language": "python",
   "name": "python3"
  },
  "language_info": {
   "codemirror_mode": {
    "name": "ipython",
    "version": 3
   },
   "file_extension": ".py",
   "mimetype": "text/x-python",
   "name": "python",
   "nbconvert_exporter": "python",
   "pygments_lexer": "ipython3",
   "version": "3.10.11"
  }
 },
 "nbformat": 4,
 "nbformat_minor": 2
}
